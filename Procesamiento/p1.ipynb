{
 "cells": [
  {
   "cell_type": "markdown",
   "metadata": {},
   "source": [
    "Conversion de PDF a JPEG"
   ]
  },
  {
   "cell_type": "code",
   "execution_count": 2,
   "metadata": {},
   "outputs": [
    {
     "ename": "PDFPageCountError",
     "evalue": "Unable to get page count.\nI/O Error: Couldn't open file 'cc3.pdf': No error.\r\n",
     "output_type": "error",
     "traceback": [
      "\u001b[1;31m---------------------------------------------------------------------------\u001b[0m",
      "\u001b[1;31mValueError\u001b[0m                                Traceback (most recent call last)",
      "File \u001b[1;32mc:\\Users\\CO-182\\AppData\\Local\\Programs\\Python\\Python311\\Lib\\site-packages\\pdf2image\\pdf2image.py:479\u001b[0m, in \u001b[0;36mpdfinfo_from_path\u001b[1;34m(pdf_path, userpw, poppler_path, rawdates, timeout)\u001b[0m\n\u001b[0;32m    478\u001b[0m \u001b[39mif\u001b[39;00m \u001b[39m\"\u001b[39m\u001b[39mPages\u001b[39m\u001b[39m\"\u001b[39m \u001b[39mnot\u001b[39;00m \u001b[39min\u001b[39;00m d:\n\u001b[1;32m--> 479\u001b[0m     \u001b[39mraise\u001b[39;00m \u001b[39mValueError\u001b[39;00m\n\u001b[0;32m    481\u001b[0m \u001b[39mreturn\u001b[39;00m d\n",
      "\u001b[1;31mValueError\u001b[0m: ",
      "\nDuring handling of the above exception, another exception occurred:\n",
      "\u001b[1;31mPDFPageCountError\u001b[0m                         Traceback (most recent call last)",
      "Cell \u001b[1;32mIn [2], line 8\u001b[0m\n\u001b[0;32m      4\u001b[0m \u001b[39mimport\u001b[39;00m \u001b[39mnumpy\u001b[39;00m \u001b[39mas\u001b[39;00m \u001b[39mnp\u001b[39;00m\n\u001b[0;32m      7\u001b[0m \u001b[39m# Store Pdf with convert_from_path function\u001b[39;00m\n\u001b[1;32m----> 8\u001b[0m images \u001b[39m=\u001b[39m convert_from_path(\u001b[39m'\u001b[39;49m\u001b[39mcc3.pdf\u001b[39;49m\u001b[39m'\u001b[39;49m,\u001b[39m500\u001b[39;49m,poppler_path\u001b[39m=\u001b[39;49m\u001b[39mr\u001b[39;49m\u001b[39m'\u001b[39;49m\u001b[39mC:\u001b[39;49m\u001b[39m\\\u001b[39;49m\u001b[39mProgram Files\u001b[39;49m\u001b[39m\\\u001b[39;49m\u001b[39mpoppler-22.11.0\u001b[39;49m\u001b[39m\\\u001b[39;49m\u001b[39mLibrary\u001b[39;49m\u001b[39m\\\u001b[39;49m\u001b[39mbin\u001b[39;49m\u001b[39m'\u001b[39;49m)\n\u001b[0;32m     10\u001b[0m \u001b[39mfor\u001b[39;00m i \u001b[39min\u001b[39;00m \u001b[39mrange\u001b[39m(\u001b[39mlen\u001b[39m(images)):\n\u001b[0;32m     11\u001b[0m \t\u001b[39m# Save pages as images in the pdf\u001b[39;00m\n\u001b[0;32m     12\u001b[0m \timages[i]\u001b[39m.\u001b[39msave(\u001b[39m'\u001b[39m\u001b[39mpage\u001b[39m\u001b[39m'\u001b[39m\u001b[39m+\u001b[39m \u001b[39mstr\u001b[39m(i) \u001b[39m+\u001b[39m\u001b[39m'\u001b[39m\u001b[39m.jpg\u001b[39m\u001b[39m'\u001b[39m, \u001b[39m'\u001b[39m\u001b[39mJPEG\u001b[39m\u001b[39m'\u001b[39m)\n",
      "File \u001b[1;32mc:\\Users\\CO-182\\AppData\\Local\\Programs\\Python\\Python311\\Lib\\site-packages\\pdf2image\\pdf2image.py:98\u001b[0m, in \u001b[0;36mconvert_from_path\u001b[1;34m(pdf_path, dpi, output_folder, first_page, last_page, fmt, jpegopt, thread_count, userpw, use_cropbox, strict, transparent, single_file, output_file, poppler_path, grayscale, size, paths_only, use_pdftocairo, timeout, hide_annotations)\u001b[0m\n\u001b[0;32m     95\u001b[0m \u001b[39mif\u001b[39;00m \u001b[39misinstance\u001b[39m(poppler_path, pathlib\u001b[39m.\u001b[39mPurePath):\n\u001b[0;32m     96\u001b[0m     poppler_path \u001b[39m=\u001b[39m poppler_path\u001b[39m.\u001b[39mas_posix()\n\u001b[1;32m---> 98\u001b[0m page_count \u001b[39m=\u001b[39m pdfinfo_from_path(pdf_path, userpw, poppler_path\u001b[39m=\u001b[39;49mpoppler_path)[\u001b[39m\"\u001b[39m\u001b[39mPages\u001b[39m\u001b[39m\"\u001b[39m]\n\u001b[0;32m    100\u001b[0m \u001b[39m# We start by getting the output format, the buffer processing function and if we need pdftocairo\u001b[39;00m\n\u001b[0;32m    101\u001b[0m parsed_fmt, final_extension, parse_buffer_func, use_pdfcairo_format \u001b[39m=\u001b[39m _parse_format(\n\u001b[0;32m    102\u001b[0m     fmt, grayscale\n\u001b[0;32m    103\u001b[0m )\n",
      "File \u001b[1;32mc:\\Users\\CO-182\\AppData\\Local\\Programs\\Python\\Python311\\Lib\\site-packages\\pdf2image\\pdf2image.py:488\u001b[0m, in \u001b[0;36mpdfinfo_from_path\u001b[1;34m(pdf_path, userpw, poppler_path, rawdates, timeout)\u001b[0m\n\u001b[0;32m    484\u001b[0m     \u001b[39mraise\u001b[39;00m PDFInfoNotInstalledError(\n\u001b[0;32m    485\u001b[0m         \u001b[39m\"\u001b[39m\u001b[39mUnable to get page count. Is poppler installed and in PATH?\u001b[39m\u001b[39m\"\u001b[39m\n\u001b[0;32m    486\u001b[0m     )\n\u001b[0;32m    487\u001b[0m \u001b[39mexcept\u001b[39;00m \u001b[39mValueError\u001b[39;00m:\n\u001b[1;32m--> 488\u001b[0m     \u001b[39mraise\u001b[39;00m PDFPageCountError(\n\u001b[0;32m    489\u001b[0m         \u001b[39m\"\u001b[39m\u001b[39mUnable to get page count.\u001b[39m\u001b[39m\\n\u001b[39;00m\u001b[39m%s\u001b[39;00m\u001b[39m\"\u001b[39m \u001b[39m%\u001b[39m err\u001b[39m.\u001b[39mdecode(\u001b[39m\"\u001b[39m\u001b[39mutf8\u001b[39m\u001b[39m\"\u001b[39m, \u001b[39m\"\u001b[39m\u001b[39mignore\u001b[39m\u001b[39m\"\u001b[39m)\n\u001b[0;32m    490\u001b[0m     )\n",
      "\u001b[1;31mPDFPageCountError\u001b[0m: Unable to get page count.\nI/O Error: Couldn't open file 'cc3.pdf': No error.\r\n"
     ]
    }
   ],
   "source": [
    "# import module\n",
    "from pdf2image import convert_from_path\n",
    "import cv2\n",
    "import numpy as np\n",
    "\n",
    "\n",
    "# Store Pdf with convert_from_path function\n",
    "images = convert_from_path('docu_proc\\cc3.pdf',500,poppler_path=r'C:\\Program Files\\poppler-22.11.0\\Library\\bin')\n",
    "\n",
    "for i in range(len(images)):\n",
    "\t# Save pages as images in the pdf\n",
    "\timages[i].save('docu_proc\\page'+ str(i) +'.jpg', 'JPEG')"
   ]
  },
  {
   "cell_type": "markdown",
   "metadata": {},
   "source": [
    "PROCESAMIENTO DE IMÁGENES"
   ]
  },
  {
   "cell_type": "code",
   "execution_count": null,
   "metadata": {},
   "outputs": [
    {
     "name": "stdout",
     "output_type": "stream",
     "text": [
      "0.13595446944236755 -0.12275704741477966\n"
     ]
    },
    {
     "data": {
      "text/plain": [
       "-1"
      ]
     },
     "execution_count": 9,
     "metadata": {},
     "output_type": "execute_result"
    }
   ],
   "source": [
    "# LECTURA, REDIMENSIONAMIENTO Y FILTRADO DE IMAGENES\n",
    "# DOCUMENTO\n",
    "kernel = np.ones((5,5), np.uint8)\n",
    "img = cv2.imread('docu_proc\\page1.JPG')\n",
    "img = cv2.resize(img,(800,750))\n",
    "img_gr = cv2.cvtColor(img,cv2.COLOR_BGR2GRAY)\n",
    "img_can = cv2.Canny(img,200,200)\n",
    "# PLANTILLAS\n",
    "# FRONTAL\n",
    "pl_frontal = cv2.imread('plantilla_frontal.JPG')\n",
    "pl_frontal = cv2.resize(pl_frontal,(500,300))\n",
    "pl_frontal_gr = cv2.cvtColor(pl_frontal,cv2.COLOR_BGR2GRAY)\n",
    "pl_frontal_can = cv2.Canny(pl_frontal,200,200)\n",
    "# TRASERA\n",
    "pl_trasera = cv2.imread('plantilla_trasera.JPG')\n",
    "pl_trasera = cv2.resize(pl_trasera,(600,300))\n",
    "pl_trasera_gr = cv2.cvtColor(pl_trasera,cv2.COLOR_BGR2GRAY)\n",
    "pl_trasera_can = cv2.Canny(pl_trasera,200,200)\n",
    "\n",
    "# MASCARA\n",
    "# cv2.imshow('CANNY', img_can)\n",
    "img_dil = cv2.dilate(img_can,kernel,iterations=1)\n",
    "# cv2.imshow('DILATADO', img_dil)\n",
    "img_eroded = cv2.erode(img_dil,kernel,iterations=1)\n",
    "# cv2.imshow('ERODED', img_eroded)\n",
    "mascara = cv2.adaptiveThreshold(img_dil, 255, cv2.ADAPTIVE_THRESH_MEAN_C, cv2.THRESH_BINARY_INV,55,24)\n",
    "# mascara = cv2.adaptiveThreshold(img_can, 255, cv2.ADAPTIVE_THRESH_MEAN_C, cv2.THRESH_BINARY_INV,13,35)\n",
    "# cv2.imshow('MASCARA', mascara)\n",
    "\n",
    "\n",
    "# IDENTIFICAR CANTIDAD DE CARAS DEL DOCUMENTO EN LA PÁGINA\n",
    "contornos, _ = cv2.findContours(mascara,cv2.RETR_EXTERNAL, cv2.CHAIN_APPROX_SIMPLE) \n",
    "s=1\n",
    "for cont in contornos:\n",
    "    rectangulo = cv2.minAreaRect(cont)\n",
    "    (x,y), (an, al), angulo = rectangulo\n",
    "    if(al*an > 50000 ):\n",
    "        # print('area: ',al*an)\n",
    "        rect = cv2.boxPoints(rectangulo)\n",
    "        rect = np.int0(rect)\n",
    "        cv2.polylines(img,[rect], True,(0,255,0), 2)\n",
    "        # print(rect)\n",
    "        x_min = rect[0][0]\n",
    "        x_max = rect[0][0]\n",
    "        y_min = rect[0][1]\n",
    "        y_max = rect[0][1]\n",
    "        for pun in rect:\n",
    "            if(pun[0] < x_min):\n",
    "                x_min = pun[0]\n",
    "            elif(pun[0] > x_max):\n",
    "                x_max = pun[0]\n",
    "            if(pun[1] < y_min):\n",
    "                y_min = pun[1]\n",
    "            elif(pun[1] > y_max):\n",
    "                y_max = pun[1]\n",
    "        # print('Xmin',x_min,'Xmax',x_max)\n",
    "        # print('Ymin',y_min,'Ymax',y_max)\n",
    "        img_cort = img[y_min:y_max,x_min:x_max]\n",
    "        nm='CORTADA'+str(s)\n",
    "        cv2.imshow(nm,img_cort)\n",
    "        s+=1\n",
    "\n",
    "mascara2 = cv2.adaptiveThreshold(pl_frontal_gr, 255, cv2.ADAPTIVE_THRESH_MEAN_C, cv2.THRESH_BINARY_INV,13,12)\n",
    "# cv2.imshow('MASCARA2', mascara2)\n",
    "\n",
    "\n",
    "# COMPARACIÓN DE IMAGENES\n",
    "# resultado = cv2.matchTemplate(img_can,pl_trasera_can,cv2.TM_CCOEFF_NORMED)\n",
    "resultado = cv2.matchTemplate(mascara,mascara2,cv2.TM_CCOEFF_NORMED)\n",
    "# print(resultado)\n",
    "min, max, pos_min, pos_max =cv2.minMaxLoc(resultado)\n",
    "\n",
    "pix_sup_izq = pos_max\n",
    "pix_inf_der = (pos_max[0]+500, pos_min[1]+50)\n",
    "print(max,min )\n",
    "\n",
    "# cv2.rectangle(img, pix_sup_izq, pix_inf_der,255 ,4 )\n",
    "cv2.imshow('RESULTADO',img)\n",
    "# cv2.imshow('PLANTILLA',pl_trasera_can)\n",
    "\n",
    "# cv2.imshow('ORIGINAL', img)\n",
    "# cv2.imshow('CANNY', img_can)\n",
    "# cv2.imshow('GRISES',img_gr)\n",
    "# cv2.imshow('ORIGINAL F', pl_frontal)\n",
    "# cv2.imshow('CANNY F', pl_frontal_can)\n",
    "# cv2.imshow('GRISES F',pl_frontal_gr)\n",
    "# cv2.imshow('ORIGINAL T', pl_trasera)\n",
    "# cv2.imshow('CANNY T', pl_trasera_can)\n",
    "# cv2.imshow('GRISES T',pl_trasera_gr)\n",
    "cv2.waitKey(0)\n"
   ]
  }
 ],
 "metadata": {
  "kernelspec": {
   "display_name": "Python 3.11.0 64-bit",
   "language": "python",
   "name": "python3"
  },
  "language_info": {
   "codemirror_mode": {
    "name": "ipython",
    "version": 3
   },
   "file_extension": ".py",
   "mimetype": "text/x-python",
   "name": "python",
   "nbconvert_exporter": "python",
   "pygments_lexer": "ipython3",
   "version": "3.11.0"
  },
  "orig_nbformat": 4,
  "vscode": {
   "interpreter": {
    "hash": "ab8ecc7520cca4869e25071dca1806297514e5ff10df7d313c761f3c8ea98284"
   }
  }
 },
 "nbformat": 4,
 "nbformat_minor": 2
}
