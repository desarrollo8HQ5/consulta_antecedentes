{
 "cells": [
  {
   "cell_type": "markdown",
   "metadata": {},
   "source": [
    "Conversion de PDF a JPEG"
   ]
  },
  {
   "cell_type": "code",
   "execution_count": 1,
   "metadata": {},
   "outputs": [],
   "source": [
    "# import module\n",
    "from pdf2image import convert_from_path\n",
    "import cv2\n",
    "import numpy as np\n",
    "\n",
    "\n",
    "# Store Pdf with convert_from_path function\n",
    "images = convert_from_path('cc1.pdf',500,poppler_path=r'C:\\Program Files\\poppler-22.11.0\\Library\\bin')\n",
    "\n",
    "for i in range(len(images)):\n",
    "\t# Save pages as images in the pdf\n",
    "\timages[i].save('page'+ str(i) +'.jpg', 'JPEG')"
   ]
  },
  {
   "cell_type": "markdown",
   "metadata": {},
   "source": [
    "PROCESAMIENTO DE IMÁGENES"
   ]
  },
  {
   "cell_type": "code",
   "execution_count": 3,
   "metadata": {},
   "outputs": [
    {
     "name": "stdout",
     "output_type": "stream",
     "text": [
      "0.11023230850696564 -0.05231846496462822\n"
     ]
    },
    {
     "data": {
      "text/plain": [
       "-1"
      ]
     },
     "execution_count": 3,
     "metadata": {},
     "output_type": "execute_result"
    }
   ],
   "source": [
    "# LECTURA, REDIMENSIONAMIENTO Y FILTRADO DE IMAGENES\n",
    "# DOCUMENTO\n",
    "kernel = np.ones((5,5), np.uint8)\n",
    "img = cv2.imread('page0.JPG')\n",
    "img = cv2.resize(img,(800,750))\n",
    "img_gr = cv2.cvtColor(img,cv2.COLOR_BGR2GRAY)\n",
    "img_can = cv2.Canny(img,200,200)\n",
    "# PLANTILLAS\n",
    "# FRONTAL\n",
    "pl_frontal = cv2.imread('plantilla_frontal.JPG')\n",
    "pl_frontal = cv2.resize(pl_frontal,(500,300))\n",
    "pl_frontal_gr = cv2.cvtColor(pl_frontal,cv2.COLOR_BGR2GRAY)\n",
    "pl_frontal_can = cv2.Canny(pl_frontal,200,200)\n",
    "# TRASERA\n",
    "pl_trasera = cv2.imread('plantilla_trasera.JPG')\n",
    "pl_trasera = cv2.resize(pl_trasera,(600,300))\n",
    "pl_trasera_gr = cv2.cvtColor(pl_trasera,cv2.COLOR_BGR2GRAY)\n",
    "pl_trasera_can = cv2.Canny(pl_trasera,200,200)\n",
    "\n",
    "# MASCARA\n",
    "img_dil = cv2.dilate(img_can,kernel,iterations=1)\n",
    "cv2.imshow('DILATADO', img_dil)\n",
    "# mascara = cv2.adaptiveThreshold(img_dil, 255, cv2.ADAPTIVE_THRESH_MEAN_C, cv2.THRESH_BINARY_INV,95,4)\n",
    "\n",
    "\n",
    "mascara = cv2.adaptiveThreshold(img_gr, 255, cv2.ADAPTIVE_THRESH_MEAN_C, cv2.THRESH_BINARY_INV,13,35)\n",
    "# CONTORNOS\n",
    "contornos, _ = cv2.findContours(img_dil,cv2.RETR_EXTERNAL, cv2.CHAIN_APPROX_SIMPLE) \n",
    "for cont in contornos:\n",
    "    rectangulo = cv2.minAreaRect(cont)\n",
    "    (x,y), (an, al), angulo = rectangulo\n",
    "    rect = cv2.boxPoints(rectangulo)\n",
    "    rect = np.int0(rect)\n",
    "    cv2.polylines(img,[rect], True,(0,255,0), 2)\n",
    "\n",
    "cv2.imshow('MASCARA', mascara)\n",
    "\n",
    "mascara2 = cv2.adaptiveThreshold(pl_frontal_gr, 255, cv2.ADAPTIVE_THRESH_MEAN_C, cv2.THRESH_BINARY_INV,13,12)\n",
    "# cv2.imshow('MASCARA2', mascara2)\n",
    "\n",
    "# COMPARACIÓN DE IMAGENES\n",
    "# resultado = cv2.matchTemplate(img_can,pl_trasera_can,cv2.TM_CCOEFF_NORMED)\n",
    "resultado = cv2.matchTemplate(mascara,mascara2,cv2.TM_CCOEFF_NORMED)\n",
    "# print(resultado)\n",
    "min, max, pos_min, pos_max =cv2.minMaxLoc(resultado)\n",
    "\n",
    "pix_sup_izq = pos_max\n",
    "pix_inf_der = (pos_max[0]+500, pos_min[1]+50)\n",
    "print(max,min )\n",
    "\n",
    "cv2.rectangle(img, pix_sup_izq, pix_inf_der,255 ,4 )\n",
    "cv2.imshow('RESULTADO',img)\n",
    "# cv2.imshow('PLANTILLA',pl_trasera_can)\n",
    "\n",
    "# cv2.imshow('ORIGINAL', img)\n",
    "# cv2.imshow('CANNY', img_can)\n",
    "# cv2.imshow('GRISES',img_gr)\n",
    "# cv2.imshow('ORIGINAL F', pl_frontal)\n",
    "# cv2.imshow('CANNY F', pl_frontal_can)\n",
    "# cv2.imshow('GRISES F',pl_frontal_gr)\n",
    "# cv2.imshow('ORIGINAL T', pl_trasera)\n",
    "# cv2.imshow('CANNY T', pl_trasera_can)\n",
    "# cv2.imshow('GRISES T',pl_trasera_gr)\n",
    "cv2.waitKey(0)\n"
   ]
  }
 ],
 "metadata": {
  "kernelspec": {
   "display_name": "Python 3.11.0 64-bit",
   "language": "python",
   "name": "python3"
  },
  "language_info": {
   "codemirror_mode": {
    "name": "ipython",
    "version": 3
   },
   "file_extension": ".py",
   "mimetype": "text/x-python",
   "name": "python",
   "nbconvert_exporter": "python",
   "pygments_lexer": "ipython3",
   "version": "3.11.0"
  },
  "orig_nbformat": 4,
  "vscode": {
   "interpreter": {
    "hash": "ab8ecc7520cca4869e25071dca1806297514e5ff10df7d313c761f3c8ea98284"
   }
  }
 },
 "nbformat": 4,
 "nbformat_minor": 2
}
