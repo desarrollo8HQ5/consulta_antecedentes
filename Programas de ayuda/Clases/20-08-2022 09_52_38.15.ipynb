{
  "cells": [
    {
      "cell_type": "markdown",
      "metadata": {
        "id": "JotXunZRIClk"
      },
      "source": [
        "# BASES DE PYTHON\n",
        "\n",
        "*   Variables \n",
        "*   Variables numéricas\n",
        "*   Variables de texto\n",
        "*   Rangos\n",
        "*   Listas\n",
        "*   Tuplas\n",
        "*   Diccionarios\n",
        "*   Condicionales\n",
        "*   Loops\n",
        "*   Funciones\n",
        "*   Lambda\n",
        "*   Funcion map\n",
        "*   Errores y excepciones\n",
        "*   Bibliografía\n"
      ]
    },
    {
      "cell_type": "markdown",
      "metadata": {
        "id": "NjozzhYC6Lwn"
      },
      "source": [
        "## Variables"
      ]
    },
    {
      "cell_type": "markdown",
      "metadata": {
        "id": "jQalsqZ48ND_"
      },
      "source": [
        "**Reglas para la creación de variables**\\\n",
        "* El nombre de una variable **debe comenzar** con una letra ó con _.\\\n",
        "* El nombre de una variable **no puede comenzar** con un número.\n",
        "* El nombre de una variable **sólo puede contener** carácteres alfa-numéricos.\n",
        "* El nombre de una variable tiene **sensibilidad a mayúsculas y minúsculas** (x es diferente de X)."
      ]
    },
    {
      "cell_type": "code",
      "execution_count": null,
      "metadata": {
        "id": "5C3iE7hZ6PpY"
      },
      "outputs": [],
      "source": [
        "Hola_mundo = \"Hola Mundo\"\n",
        "print(Hola_mundo)"
      ]
    },
    {
      "cell_type": "code",
      "execution_count": null,
      "metadata": {
        "id": "K9pkuae56LGK"
      },
      "outputs": [],
      "source": [
        "Hola_mundo2 = \"Hola\\nMundo\"\n",
        "print(Hola_mundo2)"
      ]
    },
    {
      "cell_type": "markdown",
      "metadata": {
        "id": "lWhYWwEGOnk5"
      },
      "source": [
        "## variables numéricas"
      ]
    },
    {
      "cell_type": "code",
      "execution_count": null,
      "metadata": {
        "id": "7wEUS6EUOvkh"
      },
      "outputs": [],
      "source": [
        "20220820"
      ]
    },
    {
      "cell_type": "code",
      "execution_count": null,
      "metadata": {
        "id": "8LoTAkFDO35E"
      },
      "outputs": [],
      "source": [
        "num = 20220820\n",
        "print(num)"
      ]
    },
    {
      "cell_type": "code",
      "execution_count": null,
      "metadata": {
        "id": "BZjejybxMzx_"
      },
      "outputs": [],
      "source": [
        "num = 20220820\n",
        "print(type(num))"
      ]
    },
    {
      "cell_type": "code",
      "execution_count": null,
      "metadata": {
        "id": "gwFnCuAyM3fb"
      },
      "outputs": [],
      "source": [
        "num = 2022.0820\n",
        "print(type(num))"
      ]
    },
    {
      "cell_type": "markdown",
      "metadata": {
        "id": "tHBtQEzCNKZ_"
      },
      "source": [
        "### Operadores"
      ]
    },
    {
      "cell_type": "markdown",
      "metadata": {
        "id": "dKSnGetNPpWa"
      },
      "source": [
        "Python soporta los siguientes operadores aritmeticos: \n",
        "\n",
        "*   \\+ (Adición)\n",
        "*   \\* (multiplicación)\n",
        "*   / (división)\n",
        "*   ** (potencia)\n",
        "*   // (división entera)."
      ]
    },
    {
      "cell_type": "code",
      "execution_count": null,
      "metadata": {
        "id": "zPdC0ZE_PGnF"
      },
      "outputs": [],
      "source": [
        "num_a = 2\n",
        "num_b = 3\n",
        "num = num_a + num_b\n",
        "print(num)"
      ]
    },
    {
      "cell_type": "code",
      "execution_count": null,
      "metadata": {
        "id": "xhzU-cGgQF_A"
      },
      "outputs": [],
      "source": [
        "num_a = 2\n",
        "num_b = 3\n",
        "num = num_a * num_b\n",
        "print(num)"
      ]
    },
    {
      "cell_type": "code",
      "execution_count": null,
      "metadata": {
        "id": "nX1FEL3YQFtb"
      },
      "outputs": [],
      "source": [
        "num_a = 2\n",
        "num_b = 3\n",
        "num = num_a / num_b\n",
        "print(num)"
      ]
    },
    {
      "cell_type": "code",
      "execution_count": null,
      "metadata": {
        "id": "HTjd9WdbQFie"
      },
      "outputs": [],
      "source": [
        "num_a = 2\n",
        "num_b = 3\n",
        "num = num_a ** num_b\n",
        "print(num)"
      ]
    },
    {
      "cell_type": "code",
      "execution_count": null,
      "metadata": {
        "id": "mNsvPOh1QFUJ"
      },
      "outputs": [],
      "source": [
        "num_a = 6\n",
        "num_b = 4\n",
        "num = num_a // num_b\n",
        "print(num)"
      ]
    },
    {
      "cell_type": "code",
      "execution_count": null,
      "metadata": {
        "id": "7hsLUZNrJ5Mp"
      },
      "outputs": [],
      "source": [
        "num = round(6.5)\n",
        "print(num)"
      ]
    },
    {
      "cell_type": "markdown",
      "metadata": {
        "id": "XgUduxV4MqQ-"
      },
      "source": [
        "## variables de texto"
      ]
    },
    {
      "cell_type": "markdown",
      "metadata": {
        "id": "Rgm3R1qXRAKv"
      },
      "source": [
        "Una cadena es una secuencia de caracteres\n",
        "* son inmutables"
      ]
    },
    {
      "cell_type": "code",
      "execution_count": null,
      "metadata": {
        "id": "FQsbzcMAHmjQ"
      },
      "outputs": [],
      "source": [
        "'Hola'"
      ]
    },
    {
      "cell_type": "code",
      "execution_count": null,
      "metadata": {
        "id": "An-Nrz1PJTgB"
      },
      "outputs": [],
      "source": [
        "txt = 'Hola'\n",
        "print(txt)"
      ]
    },
    {
      "cell_type": "code",
      "execution_count": null,
      "metadata": {
        "id": "FNgnNs3xIUf8"
      },
      "outputs": [],
      "source": [
        "\"\"\"Poverty is the deprivation of opportunity. \n",
        " Education makes us the human beings we are.\"\"\""
      ]
    },
    {
      "cell_type": "code",
      "execution_count": null,
      "metadata": {
        "id": "AavkgQs5JJvo"
      },
      "outputs": [],
      "source": [
        "txt = \"\"\"Poverty is the deprivation of opportunity. \n",
        "Education makes us the human beings we are.\"\"\"\n",
        "print(txt)"
      ]
    },
    {
      "cell_type": "code",
      "execution_count": null,
      "metadata": {
        "id": "dmA6MmQ0Ih_E"
      },
      "outputs": [],
      "source": [
        "txt = \"\"\"Poverty is the deprivation of 'opportunity'. \n",
        "\"Education\" makes us the human beings we are.\"\"\"\n",
        "print(txt)"
      ]
    },
    {
      "cell_type": "code",
      "execution_count": null,
      "metadata": {
        "id": "ps3Xa7h3JDz6"
      },
      "outputs": [],
      "source": [
        "txt = 'La ruta del archivo es C:\\nombre\\lesson.ipynb'\n",
        "print(txt)"
      ]
    },
    {
      "cell_type": "code",
      "execution_count": null,
      "metadata": {
        "id": "5HodPCi7JDpu"
      },
      "outputs": [],
      "source": [
        "txt = 'La ruta del archivo es C:\\\\nombre\\\\lesson.ipynb'\n",
        "print(txt)"
      ]
    },
    {
      "cell_type": "code",
      "execution_count": null,
      "metadata": {
        "id": "ghxSo0mcJc3n"
      },
      "outputs": [],
      "source": [
        "txt = r'La ruta del archivo es C:\\nombre\\lesson.ipynb'\n",
        "print(txt)"
      ]
    },
    {
      "cell_type": "markdown",
      "metadata": {
        "id": "fgB1EzfVNOZU"
      },
      "source": [
        "### operadores"
      ]
    },
    {
      "cell_type": "code",
      "execution_count": null,
      "metadata": {
        "id": "UnFo3HnWJ5DI"
      },
      "outputs": [],
      "source": [
        "txt_a = 'Poverty is the '\n",
        "txt_b = 'deprivation of opportunity.'\n",
        "txt = txt_a+txt_b\n",
        "print(txt)"
      ]
    },
    {
      "cell_type": "code",
      "execution_count": null,
      "metadata": {
        "id": "hzHt_IzqJaPQ"
      },
      "outputs": [],
      "source": [
        "txt_a = 'Poverty is the deprivation of opportunity.'\n",
        "txt_b = ' \\n'\n",
        "txt_c = 'Education makes us the human beings we are.'\n",
        "txt = txt_a+txt_b+txt_c\n",
        "print(txt)"
      ]
    },
    {
      "cell_type": "code",
      "execution_count": null,
      "metadata": {
        "id": "L5Ltt9So77bz"
      },
      "outputs": [],
      "source": [
        "txt_a = 'peace_'\n",
        "txt_times = 5\n",
        "txt = txt_a*txt_times\n",
        "print(txt)"
      ]
    },
    {
      "cell_type": "markdown",
      "metadata": {
        "id": "FOJDvodhNShf"
      },
      "source": [
        "### entrada de texto"
      ]
    },
    {
      "cell_type": "code",
      "execution_count": null,
      "metadata": {
        "id": "EBtdD_zhJtia"
      },
      "outputs": [],
      "source": [
        "txt_input = input(\"Escriba algún texto: \")\n",
        "print(txt_input)"
      ]
    },
    {
      "cell_type": "markdown",
      "metadata": {
        "id": "PaUShapyNVAt"
      },
      "source": [
        "### tratamiento de texto"
      ]
    },
    {
      "cell_type": "code",
      "execution_count": null,
      "metadata": {
        "id": "BpUVEJtWKexD"
      },
      "outputs": [],
      "source": [
        "txt_a = '             Poverty Is The             '\n",
        "txt = txt_a.lower()\n",
        "print(txt)"
      ]
    },
    {
      "cell_type": "code",
      "execution_count": null,
      "metadata": {
        "id": "9SmweogZKvIt"
      },
      "outputs": [],
      "source": [
        "txt_a = '             Poverty Is The             '\n",
        "txt = txt_a.upper()\n",
        "print(txt)"
      ]
    },
    {
      "cell_type": "code",
      "execution_count": null,
      "metadata": {
        "id": "TZJ4cHvNLsZ-"
      },
      "outputs": [],
      "source": [
        "txt_a = '             Poverty Is The             '\n",
        "txt = txt_a.lstrip()\n",
        "print(txt)"
      ]
    },
    {
      "cell_type": "code",
      "execution_count": null,
      "metadata": {
        "id": "ORcEv08MLtDR"
      },
      "outputs": [],
      "source": [
        "txt_a = '             Poverty Is The             '\n",
        "txt = txt_a.rstrip()\n",
        "print(txt)"
      ]
    },
    {
      "cell_type": "code",
      "execution_count": null,
      "metadata": {
        "id": "_SaWdXLFLtjx"
      },
      "outputs": [],
      "source": [
        "txt_a = '             Poverty Is The             '\n",
        "txt = txt_a.strip()\n",
        "print(txt)"
      ]
    },
    {
      "cell_type": "code",
      "execution_count": null,
      "metadata": {
        "id": "UXeVxFstL60w"
      },
      "outputs": [],
      "source": [
        "txt_a = '             Poverty Is The             '\n",
        "txt = txt_a.startswith(\"Po\")\n",
        "print(txt)"
      ]
    },
    {
      "cell_type": "code",
      "execution_count": null,
      "metadata": {
        "id": "96OAjKnlMKAg"
      },
      "outputs": [],
      "source": [
        "txt_a = '             Poverty Is The             '\n",
        "txt = txt_a.strip().startswith(\"Po\")\n",
        "print(txt)"
      ]
    },
    {
      "cell_type": "code",
      "execution_count": null,
      "metadata": {
        "id": "0_7I-ysiMSbt"
      },
      "outputs": [],
      "source": [
        "txt_a = 'Poverty is the deprivation of opportunity.'\n",
        "txt_b = 'Education makes us the human beings we are.'\n",
        "print(\"{} {}.\".format(txt_a, txt_b))"
      ]
    },
    {
      "cell_type": "code",
      "execution_count": null,
      "metadata": {
        "id": "mRdTQEcWM8Rr"
      },
      "outputs": [],
      "source": [
        "txt_a = 'Poverty is the deprivation of opportunity.'\n",
        "txt_b = 'Education makes us the human beings we are.'\n",
        "print(\"{0} {1}.\".format(txt_a, txt_b))"
      ]
    },
    {
      "cell_type": "code",
      "execution_count": null,
      "metadata": {
        "id": "ae1250Z6M-wR"
      },
      "outputs": [],
      "source": [
        "txt_a = 'Poverty is the deprivation of opportunity.'\n",
        "txt_b = 'Education makes us the human beings we are.'\n",
        "print(\"{1} {0}.\".format(txt_a, txt_b))"
      ]
    },
    {
      "cell_type": "code",
      "execution_count": null,
      "metadata": {
        "id": "FzFnbImWNDaa"
      },
      "outputs": [],
      "source": [
        "txt_a = '             Poverty Is The             '\n",
        "pattern = 'e'\n",
        "txt = txt_a.find(pattern)\n",
        "print(txt)"
      ]
    },
    {
      "cell_type": "code",
      "execution_count": null,
      "metadata": {
        "id": "FGJAQRVnNSu3"
      },
      "outputs": [],
      "source": [
        "txt_a = '             Poverty Is The             '\n",
        "pattern = 'e'\n",
        "replace = 'X'\n",
        "txt = txt_a.replace(pattern,replace)\n",
        "print(txt)"
      ]
    },
    {
      "cell_type": "markdown",
      "metadata": {
        "id": "cvgpPFi7h7vg"
      },
      "source": [
        "* Longitud"
      ]
    },
    {
      "cell_type": "code",
      "execution_count": null,
      "metadata": {
        "id": "Hhlcc56R7Swr"
      },
      "outputs": [],
      "source": [
        "txt = 'Hola mundo'\n",
        "len(txt)"
      ]
    },
    {
      "cell_type": "markdown",
      "metadata": {
        "id": "KTW-t3_17QiB"
      },
      "source": [
        "## Rangos"
      ]
    },
    {
      "cell_type": "markdown",
      "metadata": {
        "id": "Mm_IJKGSJjsb"
      },
      "source": [
        "Es una función que devuelve una secuencia de numeros.\n",
        "* Todas las secuencias en Python comienzan a numerarse desde 0 (n-1)-ésimo elemento de un tupla"
      ]
    },
    {
      "cell_type": "code",
      "execution_count": null,
      "metadata": {
        "id": "Dejnealo7jj6"
      },
      "outputs": [],
      "source": [
        "rang = range(1, 10)\n",
        "print(type(rang))\n",
        "print(rang)\n",
        "for num in rang:\n",
        "  print(num)"
      ]
    },
    {
      "cell_type": "code",
      "execution_count": null,
      "metadata": {
        "id": "WN9x3nDW74wB"
      },
      "outputs": [],
      "source": [
        "rang = range(5, 16, 2)\n",
        "print(type(rang))\n",
        "print(rang)\n",
        "for num in rang:\n",
        "  print(num)"
      ]
    },
    {
      "cell_type": "markdown",
      "metadata": {
        "id": "pBCamJX7QmNU"
      },
      "source": [
        "## listas"
      ]
    },
    {
      "cell_type": "markdown",
      "metadata": {
        "id": "GbT6Wb8HPfIt"
      },
      "source": [
        "* Son secuencias mutables\n",
        "* Para buscar en las listas, se utiliza un algoritmo de comparación que tarda cada vez más a medida que la lista se hace más larga.\n",
        "\n"
      ]
    },
    {
      "cell_type": "code",
      "execution_count": null,
      "metadata": {
        "id": "5_H-4P88NUW7"
      },
      "outputs": [],
      "source": [
        "list = []\n",
        "print(list)"
      ]
    },
    {
      "cell_type": "code",
      "execution_count": null,
      "metadata": {
        "id": "C91U45WIQxSA"
      },
      "outputs": [],
      "source": [
        "list = ['2022', '08', '20']\n",
        "print(list)"
      ]
    },
    {
      "cell_type": "code",
      "execution_count": null,
      "metadata": {
        "id": "iK0ALjA4Q3oZ"
      },
      "outputs": [],
      "source": [
        "list = [2022, 8, 20]\n",
        "list_a = 'sabado'\n",
        "list.append(list_a)\n",
        "print(list)"
      ]
    },
    {
      "cell_type": "code",
      "execution_count": null,
      "metadata": {
        "id": "Qf6m3EGfRBfh"
      },
      "outputs": [],
      "source": [
        "list_a = ['2022', '08', '20']\n",
        "list_b = 'sabado'\n",
        "list_a.append(list_b)\n",
        "list_a"
      ]
    },
    {
      "cell_type": "code",
      "execution_count": null,
      "metadata": {
        "id": "PpHrD3K1TJrd"
      },
      "outputs": [],
      "source": [
        "list = ['2022', '08', '20']\n",
        "list[2]"
      ]
    },
    {
      "cell_type": "code",
      "execution_count": null,
      "metadata": {
        "id": "HqBL92EaTutU"
      },
      "outputs": [],
      "source": [
        "list = ['2022', '08', '20']\n",
        "list[0:2]"
      ]
    },
    {
      "cell_type": "code",
      "execution_count": null,
      "metadata": {
        "id": "AfLkvOpPTxpc"
      },
      "outputs": [],
      "source": [
        "list = ['2022', '08', '20']\n",
        "list[1:]"
      ]
    },
    {
      "cell_type": "code",
      "execution_count": null,
      "metadata": {
        "id": "pUU3UuNgT1io"
      },
      "outputs": [],
      "source": [
        "list = ['2022', '08', '20']\n",
        "'20' in list"
      ]
    },
    {
      "cell_type": "code",
      "execution_count": null,
      "metadata": {
        "id": "Qu-SX8U_T8c2"
      },
      "outputs": [],
      "source": [
        "len(list)"
      ]
    },
    {
      "cell_type": "code",
      "execution_count": null,
      "metadata": {
        "id": "bl1pM1UYQFjy"
      },
      "outputs": [],
      "source": [
        "list = ['2022', '08', '20']\n",
        "list.insert(0,'Hoy')\n",
        "print(list)"
      ]
    },
    {
      "cell_type": "code",
      "execution_count": null,
      "metadata": {
        "id": "Isj2mNTfQImR"
      },
      "outputs": [],
      "source": [
        "list = ['2022', '08', '20']\n",
        "list.remove('2022')\n",
        "print(list)"
      ]
    },
    {
      "cell_type": "code",
      "execution_count": null,
      "metadata": {
        "id": "bJT5h1cdQjRp"
      },
      "outputs": [],
      "source": [
        "list = ['2022', '08', '20']\n",
        "print(list.index('20'))"
      ]
    },
    {
      "cell_type": "markdown",
      "metadata": {
        "id": "ewsXo0_cIWiF"
      },
      "source": [
        "## Tuplas"
      ]
    },
    {
      "cell_type": "markdown",
      "metadata": {
        "id": "q1VkN8-UJN9g"
      },
      "source": [
        "Las tuplas son secuencias, igual que las cadenas, y se puede utilizar la misma notación de índices que en las cadenas para obtener cada una de sus componentes.\n",
        "* Es posible anidar tuplas\n",
        "* Las tuplas son inmutables\n"
      ]
    },
    {
      "cell_type": "code",
      "execution_count": null,
      "metadata": {
        "id": "NATvL-SCIYe5"
      },
      "outputs": [],
      "source": [
        "tup = (20, \"Agosto\", 2022)\n",
        "print(type(tup))\n",
        "print(tup)"
      ]
    },
    {
      "cell_type": "code",
      "execution_count": null,
      "metadata": {
        "id": "Hc7WJeVdK92g"
      },
      "outputs": [],
      "source": [
        "tup_a = (20, \"Agosto\", 2022)\n",
        "tup_b = ('hoy', tup_a)\n",
        "print(tup_b)"
      ]
    },
    {
      "cell_type": "markdown",
      "metadata": {
        "id": "WkuK0k0JMIAt"
      },
      "source": [
        "**Empaquetado y desempaquetado**"
      ]
    },
    {
      "cell_type": "code",
      "execution_count": null,
      "metadata": {
        "id": "PjMV84CCL7rA"
      },
      "outputs": [],
      "source": [
        "tup = 20, \"Agosto\", 2022\n",
        "print(type(tup))\n",
        "print(tup)"
      ]
    },
    {
      "cell_type": "code",
      "execution_count": null,
      "metadata": {
        "id": "8KKRLkqEMNEc"
      },
      "outputs": [],
      "source": [
        "tup = 20, \"Agosto\", 2022\n",
        "a, b, c = tup\n",
        "print(type(a))\n",
        "print(a)\n",
        "print(type(b))\n",
        "print(b)\n",
        "print(type(c))\n",
        "print(c)"
      ]
    },
    {
      "cell_type": "markdown",
      "metadata": {
        "id": "PKVwthpaIY-u"
      },
      "source": [
        "## Diccionarios"
      ]
    },
    {
      "cell_type": "markdown",
      "metadata": {
        "id": "1zvU2P8cNngy"
      },
      "source": [
        "Un diccionario es una colección no-ordenada de valores que son accedidos a traves de una clave\n",
        "* El algoritmo que usa Python internamente para buscar un elemento en un diccionario es muy distinto que el que utiliza para buscar en listas. Para buscar en diccionarios se utiliza un algoritmo llamado hash, que se basa en realizar un cálculo numérico sobre la clave del elemento, y tiene una propiedad muy interesante: sin importar cuántos elementos tenga el diccionario, el tiempo de búsqueda es siempre aproximadamente igual."
      ]
    },
    {
      "cell_type": "code",
      "execution_count": null,
      "metadata": {
        "id": "nqwWIHXkIagn"
      },
      "outputs": [],
      "source": [
        "dicti = {}\n",
        "print(type(dicti))\n",
        "print(dicti)"
      ]
    },
    {
      "cell_type": "code",
      "execution_count": null,
      "metadata": {
        "id": "Amd96mMzOB7o"
      },
      "outputs": [],
      "source": [
        "dicti = {}\n",
        "dicti[\"Jairo\"] = [29, 'ingenieria']\n",
        "dicti[\"Carlos\"] = [29, 'Matematicas','estadistica','fisica']\n",
        "dicti[\"Juliana\"] = [25, 'derecho','penal']\n",
        "print(type(dicti))\n",
        "print(dicti)"
      ]
    },
    {
      "cell_type": "code",
      "execution_count": null,
      "metadata": {
        "id": "Rh8z2arzOoVb"
      },
      "outputs": [],
      "source": [
        "dicti = {}\n",
        "dicti[\"Jairo\"] = [29, 'ingenieria']\n",
        "print(type(dicti[\"Jairo\"] ))\n",
        "print(dicti[\"Jairo\"])\n",
        "print(type(dicti.get(\"Jairo\") ))\n",
        "print(dicti.get(\"Jairo\"))"
      ]
    },
    {
      "cell_type": "markdown",
      "metadata": {
        "id": "waEjd4d6PN4J"
      },
      "source": [
        "**recorrido**"
      ]
    },
    {
      "cell_type": "code",
      "execution_count": null,
      "metadata": {
        "id": "tZkxwyGPPEKT"
      },
      "outputs": [],
      "source": [
        "dicti = {}\n",
        "dicti[\"Jairo\"] = [29, 'ingenieria']\n",
        "dicti[\"Carlos\"] = [29, 'Matematicas','estadistica','fisica']\n",
        "dicti[\"Juliana\"] = [25, 'derecho','penal']\n",
        "for dia, codigos in dicti.items():\n",
        "   print(dia, \":\", codigos)"
      ]
    },
    {
      "cell_type": "markdown",
      "metadata": {
        "id": "dxyWQi8EUSyl"
      },
      "source": [
        "## Condicionales"
      ]
    },
    {
      "cell_type": "code",
      "execution_count": null,
      "metadata": {
        "id": "j5zgBmg7UChI"
      },
      "outputs": [],
      "source": [
        "var = 20220820\n",
        "\n",
        "if var < 20220820:\n",
        "  print(\"antes\")\n",
        "elif var == 20220820:\n",
        "  print(\"exacto\")\n",
        "else: # my_variable > 20220820\n",
        "  print(\"despues\")"
      ]
    },
    {
      "cell_type": "markdown",
      "metadata": {
        "id": "vC7X16TJVv_G"
      },
      "source": [
        "## Loops"
      ]
    },
    {
      "cell_type": "code",
      "execution_count": null,
      "metadata": {
        "id": "v1JoIc8uVf1B"
      },
      "outputs": [],
      "source": [
        "list = ['2022', '08', '20']\n",
        "i = 0\n",
        "while i < len(list):\n",
        "  print(list[i])\n",
        "  i += 1 # es lo mismo que escribir i = i + 1"
      ]
    },
    {
      "cell_type": "code",
      "execution_count": null,
      "metadata": {
        "id": "kHWQ6soIVzY9"
      },
      "outputs": [],
      "source": [
        "list = ['2022', '08', '20']\n",
        "for i in range(len(list)):\n",
        "  print(list[i])"
      ]
    },
    {
      "cell_type": "code",
      "execution_count": null,
      "metadata": {
        "id": "6ZOo98IPV65T"
      },
      "outputs": [],
      "source": [
        "list = ['2022', '08', '20']\n",
        "for element in list:\n",
        "  print(element)"
      ]
    },
    {
      "cell_type": "code",
      "execution_count": null,
      "metadata": {
        "id": "H3e1zoUGKSuo"
      },
      "outputs": [],
      "source": [
        "list = ['2022', '08', '20']\n",
        "for i in range(len(list)):\n",
        "  print(list[i])\n",
        "  if i == 1:\n",
        "    break"
      ]
    },
    {
      "cell_type": "markdown",
      "metadata": {
        "id": "Zqdxm86VWRFP"
      },
      "source": [
        "## Funciones"
      ]
    },
    {
      "cell_type": "markdown",
      "metadata": {
        "id": "ISgUansdRn2b"
      },
      "source": [
        "Definición de nuevas instrucciones que reciben parametros llamados argumentos.\n",
        "\n",
        "* La documentación de una función se coloca luego del encabezado de la función, en un párrafo encerrado entre tres comillas dobles \"\"\"\n"
      ]
    },
    {
      "cell_type": "code",
      "execution_count": null,
      "metadata": {
        "id": "JL2l5TBXWGAI"
      },
      "outputs": [],
      "source": [
        "def func_exp(x):\n",
        "  \"\"\" Aquí debe documentar la función. \"\"\"\n",
        "  y = x ** 2\n",
        "  return y"
      ]
    },
    {
      "cell_type": "code",
      "execution_count": null,
      "metadata": {
        "id": "XuJF4egh6RKe"
      },
      "outputs": [],
      "source": [
        "func_exp(4)"
      ]
    },
    {
      "cell_type": "code",
      "execution_count": null,
      "metadata": {
        "id": "WBikvqhF4cNP"
      },
      "outputs": [],
      "source": [
        "def func_exp(x, exp):\n",
        "  \"\"\" Aquí debe documentar la función. \"\"\"\n",
        "  y = x ** exp\n",
        "  return y"
      ]
    },
    {
      "cell_type": "code",
      "execution_count": null,
      "metadata": {
        "id": "EATiXTwy6Zjz"
      },
      "outputs": [],
      "source": [
        "func_exp(4,3)"
      ]
    },
    {
      "cell_type": "code",
      "execution_count": null,
      "metadata": {
        "id": "t0Ta1BSg4bsy"
      },
      "outputs": [],
      "source": [
        "def func_exp_texto(x, exp):\n",
        "  \"\"\" Aquí debe documentar la función. \"\"\"\n",
        "  y = func_exp(x, exp)\n",
        "  txt = \"{0} elevado a la {1} es igual a {2}.\".format(x, exp, y)\n",
        "  return txt"
      ]
    },
    {
      "cell_type": "code",
      "execution_count": null,
      "metadata": {
        "id": "kEXecjloTRtV"
      },
      "outputs": [],
      "source": [
        "func_exp_texto(4,3)"
      ]
    },
    {
      "cell_type": "code",
      "execution_count": null,
      "metadata": {
        "id": "knvx9TAkOTaf"
      },
      "outputs": [],
      "source": [
        "def func_exp_2_3(x):\n",
        "  \"\"\" Aquí debe documentar la función. \"\"\"\n",
        "  y_1 = x ** 2\n",
        "  y_2 = x ** 3\n",
        "  return y_1, y_2"
      ]
    },
    {
      "cell_type": "code",
      "execution_count": null,
      "metadata": {
        "id": "t-NUvrclTToo"
      },
      "outputs": [],
      "source": [
        "a, b = func_exp_2_3(4)\n",
        "print(type(a))\n",
        "print(a)\n",
        "print(type(b))\n",
        "print(b)"
      ]
    },
    {
      "cell_type": "markdown",
      "metadata": {
        "id": "XECcj15L_r0H"
      },
      "source": [
        "## Lambda"
      ]
    },
    {
      "cell_type": "markdown",
      "metadata": {
        "id": "nmJM_YvpX7z9"
      },
      "source": [
        " Son funciones anónimas que solo pueden contener una expresión"
      ]
    },
    {
      "cell_type": "code",
      "execution_count": null,
      "metadata": {
        "id": "rPg2o7K8dW91"
      },
      "outputs": [],
      "source": [
        "func_lambda_txt = lambda arg1,arg2: arg1+', '+arg2\n",
        "txt_1 = 'Hola'\n",
        "txt_2 = 'mundo'\n",
        "txt = func_lambda_txt(txt_1,txt_2)\n",
        "print(type(txt))\n",
        "print(txt)"
      ]
    },
    {
      "cell_type": "markdown",
      "metadata": {
        "id": "-zs05rxrYEPU"
      },
      "source": [
        "## función Map"
      ]
    },
    {
      "cell_type": "markdown",
      "metadata": {
        "id": "tpWPoX4cav_R"
      },
      "source": [
        "Para el procesamiento de objetos iterables como listas e iteradores se ha implementado algunas funciones de orden superior de uso común y estas devuelven un iterador que ahorra espacio."
      ]
    },
    {
      "cell_type": "code",
      "execution_count": null,
      "metadata": {
        "id": "VcIx8Vf5YDph"
      },
      "outputs": [],
      "source": [
        "def func_exp(x):\n",
        "  \"\"\" Aquí debe documentar la función. \"\"\"\n",
        "  y = x ** 2\n",
        "  return y\n",
        "list_a = [1, 2, 3, 4, 5, 6]\n",
        "map_a = map(func_exp, list_a)\n",
        "for map_i in map_a:\n",
        "    print(map_i, end = \", \")"
      ]
    },
    {
      "cell_type": "code",
      "execution_count": null,
      "metadata": {
        "id": "OGQxhdEAgcu6"
      },
      "outputs": [],
      "source": [
        "list_a = [1, 2, 3, 4, 5, 6]\n",
        "map_a = map(lambda x: x ** 2, list_a)\n",
        "for map_i in map_a:\n",
        "    print(map_i, end = \", \")"
      ]
    },
    {
      "cell_type": "markdown",
      "metadata": {
        "id": "bAOwhfGMUIn6"
      },
      "source": [
        "## Errores y excepciones"
      ]
    },
    {
      "cell_type": "markdown",
      "metadata": {
        "id": "6mJtaWhoVN_I"
      },
      "source": [
        "Los errores de ejecución son llamados comúnmente excepciones. \\\n",
        "Durante la ejecución de un programa, si dentro de una función surge una excepción y la función no la maneja, la excepción se propaga hacia la función que la invocó, si esta otra tampoco la maneja, la excepción continua propagándose hasta llegar a la función inicial del programa y si esta tampoco la maneja se interrumpe la ejecución del programa"
      ]
    },
    {
      "cell_type": "code",
      "execution_count": null,
      "metadata": {
        "id": "aVlbPG3OUICP"
      },
      "outputs": [],
      "source": [
        "dividendo = 5\n",
        "divisor = 0\n",
        "\n",
        "try:\n",
        "  cociente = dividendo / divisor\n",
        "  print(cociente)\n",
        "except:\n",
        "  print(\"No se permite la división por cero\")"
      ]
    },
    {
      "cell_type": "code",
      "execution_count": null,
      "metadata": {
        "id": "3W55wnfLVZ1z"
      },
      "outputs": [],
      "source": [
        "txt = 'siete'\n",
        "\n",
        "try:\n",
        "  print(txt[7])\n",
        "except:\n",
        "  print(\"No existe el elemento buscado\")"
      ]
    },
    {
      "cell_type": "markdown",
      "metadata": {
        "id": "6Gh9sfak8kXq"
      },
      "source": [
        "## Bibliografía\n"
      ]
    },
    {
      "cell_type": "markdown",
      "metadata": {
        "id": "mOjNZPz7k4Ft"
      },
      "source": [
        "\n",
        "* (2022,Montenegro y Montenegro) Aprendizaje profundo. Diplomado de IA y AP. \n",
        "* BeginnersGuide. link :https://wiki.python.org/moin/BeginnersGuide/Programmers\n",
        "* Uniwebsidad. link :https://uniwebsidad.com/libros/algoritmos-python"
      ]
    }
  ],
  "metadata": {
    "colab": {
      "collapsed_sections": [
        "lWhYWwEGOnk5",
        "XgUduxV4MqQ-",
        "KTW-t3_17QiB",
        "pBCamJX7QmNU",
        "ewsXo0_cIWiF",
        "PKVwthpaIY-u",
        "dxyWQi8EUSyl",
        "vC7X16TJVv_G",
        "Zqdxm86VWRFP",
        "XECcj15L_r0H",
        "-zs05rxrYEPU",
        "bAOwhfGMUIn6"
      ],
      "name": "001_python_basic.ipynb",
      "provenance": []
    },
    "kernelspec": {
      "display_name": "Python 3.10.7 64-bit",
      "language": "python",
      "name": "python3"
    },
    "language_info": {
      "name": "python",
      "version": "3.10.7"
    },
    "vscode": {
      "interpreter": {
        "hash": "c3bf9cc023320def23bed12ec9d4be16d88bba9a07c0daae70480f377d118338"
      }
    }
  },
  "nbformat": 4,
  "nbformat_minor": 0
}
